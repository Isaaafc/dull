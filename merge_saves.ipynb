{
 "metadata": {
  "language_info": {
   "codemirror_mode": {
    "name": "ipython",
    "version": 3
   },
   "file_extension": ".py",
   "mimetype": "text/x-python",
   "name": "python",
   "nbconvert_exporter": "python",
   "pygments_lexer": "ipython3",
   "version": "3.9.1-final"
  },
  "orig_nbformat": 2,
  "kernelspec": {
   "name": "python3",
   "display_name": "Python 3.9.1 64-bit",
   "metadata": {
    "interpreter": {
     "hash": "79db9c794f8eb453157ee256d4db20d89eb977bc5e96f4f2ca758ade6b5bc41d"
    }
   }
  }
 },
 "nbformat": 4,
 "nbformat_minor": 2,
 "cells": [
  {
   "cell_type": "code",
   "execution_count": 1,
   "metadata": {},
   "outputs": [],
   "source": [
    "import pandas as pd"
   ]
  },
  {
   "cell_type": "code",
   "execution_count": 16,
   "metadata": {},
   "outputs": [],
   "source": [
    "df_orig = pd.read_csv('./data/tokens.csv')\n",
    "df_save = pd.read_csv('./save/save.csv')"
   ]
  },
  {
   "cell_type": "code",
   "execution_count": 33,
   "metadata": {},
   "outputs": [
    {
     "output_type": "execute_result",
     "data": {
      "text/plain": [
       "id                                  6313\n",
       "token                             genset\n",
       "translation              genset platform\n",
       "frequency                             25\n",
       "formal_term_chi                      NaN\n",
       "formal_term_eng                      NaN\n",
       "is_construction_term                   y\n",
       "is_entity_name                       NaN\n",
       "is_typo                              NaN\n",
       "is_tokenization_error                NaN\n",
       "Name: 203, dtype: object"
      ]
     },
     "metadata": {},
     "execution_count": 33
    }
   ],
   "source": [
    "df_save.iloc[203]"
   ]
  },
  {
   "cell_type": "code",
   "execution_count": 24,
   "metadata": {},
   "outputs": [
    {
     "output_type": "execute_result",
     "data": {
      "text/plain": [
       "id                           6282\n",
       "token                     crawler\n",
       "translation              crawler \n",
       "frequency                      25\n",
       "formal_term_chi               NaN\n",
       "formal_term_eng               NaN\n",
       "is_construction_term            y\n",
       "is_entity_name                NaN\n",
       "is_typo                       NaN\n",
       "is_tokenization_error           y\n",
       "Name: 6282, dtype: object"
      ]
     },
     "metadata": {},
     "execution_count": 24
    }
   ],
   "source": [
    "df_orig.iloc[6282]"
   ]
  },
  {
   "cell_type": "code",
   "execution_count": 25,
   "metadata": {},
   "outputs": [],
   "source": [
    "df_merged = df_orig[['id']].reset_index().merge(df_save, on=['id']).set_index('index')"
   ]
  },
  {
   "cell_type": "code",
   "execution_count": 26,
   "metadata": {},
   "outputs": [],
   "source": [
    "for c in df_merged.columns:\n",
    "    if c == 'id':\n",
    "        continue\n",
    "    \n",
    "    df_orig.loc[df_merged.index, c] = df_merged[c]"
   ]
  },
  {
   "cell_type": "code",
   "execution_count": 34,
   "metadata": {},
   "outputs": [],
   "source": [
    "df_orig.to_csv('./data/tokens_new.csv', index=False, encoding='utf-8')"
   ]
  }
 ]
}